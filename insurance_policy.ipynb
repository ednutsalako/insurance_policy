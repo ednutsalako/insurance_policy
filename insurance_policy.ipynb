{
  "cells": [
    {
      "cell_type": "code",
      "execution_count": 37,
      "metadata": {},
      "outputs": [],
      "source": [
        "import pandas as pd\n",
        "import numpy as np\n",
        "import seaborn as sns\n",
        "import matplotlib.pyplot as plt\n",
        "from sklearn.preprocessing import LabelEncoder, MinMaxScaler\n",
        "from sklearn.metrics import confusion_matrix,accuracy_score\n",
        "from sklearn.model_selection import train_test_split\n",
        "from sklearn.ensemble import RandomForestClassifier"
      ]
    },
    {
      "cell_type": "code",
      "execution_count": 38,
      "metadata": {
        "colab": {
          "base_uri": "https://localhost:8080/",
          "height": 338
        },
        "id": "RnmQguqE0F6T",
        "outputId": "8a77327e-fda6-4f17-954d-15b632300cbe"
      },
      "outputs": [
        {
          "data": {
            "text/html": [
              "<div>\n",
              "<style scoped>\n",
              "    .dataframe tbody tr th:only-of-type {\n",
              "        vertical-align: middle;\n",
              "    }\n",
              "\n",
              "    .dataframe tbody tr th {\n",
              "        vertical-align: top;\n",
              "    }\n",
              "\n",
              "    .dataframe thead th {\n",
              "        text-align: right;\n",
              "    }\n",
              "</style>\n",
              "<table border=\"1\" class=\"dataframe\">\n",
              "  <thead>\n",
              "    <tr style=\"text-align: right;\">\n",
              "      <th></th>\n",
              "      <th>ID</th>\n",
              "      <th>birthdate</th>\n",
              "      <th>marital_status</th>\n",
              "      <th>car_use</th>\n",
              "      <th>gender</th>\n",
              "      <th>kids_driving</th>\n",
              "      <th>parent</th>\n",
              "      <th>education</th>\n",
              "      <th>car_make</th>\n",
              "      <th>car_model</th>\n",
              "      <th>car_color</th>\n",
              "      <th>car_year</th>\n",
              "      <th>claim_freq</th>\n",
              "      <th>coverage_zone</th>\n",
              "      <th>claim_amt</th>\n",
              "      <th>household_income</th>\n",
              "    </tr>\n",
              "  </thead>\n",
              "  <tbody>\n",
              "    <tr>\n",
              "      <th>0</th>\n",
              "      <td>62-2999778</td>\n",
              "      <td>8/9/1962</td>\n",
              "      <td>Single</td>\n",
              "      <td>Private</td>\n",
              "      <td>Male</td>\n",
              "      <td>2</td>\n",
              "      <td>Yes</td>\n",
              "      <td>High School</td>\n",
              "      <td>Acura</td>\n",
              "      <td>TSX</td>\n",
              "      <td>Green</td>\n",
              "      <td>2010</td>\n",
              "      <td>1</td>\n",
              "      <td>Highly Urban</td>\n",
              "      <td>$73759.88</td>\n",
              "      <td>$220436.66</td>\n",
              "    </tr>\n",
              "    <tr>\n",
              "      <th>1</th>\n",
              "      <td>70-2426103</td>\n",
              "      <td>4/21/1988</td>\n",
              "      <td>Married</td>\n",
              "      <td>Private</td>\n",
              "      <td>Female</td>\n",
              "      <td>0</td>\n",
              "      <td>No</td>\n",
              "      <td>Bachelors</td>\n",
              "      <td>Corbin</td>\n",
              "      <td>Sparrow</td>\n",
              "      <td>Turquoise</td>\n",
              "      <td>2004</td>\n",
              "      <td>1</td>\n",
              "      <td>Urban</td>\n",
              "      <td>$78975.41</td>\n",
              "      <td>$66491.43</td>\n",
              "    </tr>\n",
              "    <tr>\n",
              "      <th>2</th>\n",
              "      <td>08-3808219</td>\n",
              "      <td>3/8/1999</td>\n",
              "      <td>Divorced</td>\n",
              "      <td>Private</td>\n",
              "      <td>Male</td>\n",
              "      <td>0</td>\n",
              "      <td>No</td>\n",
              "      <td>Bachelors</td>\n",
              "      <td>Nissan</td>\n",
              "      <td>Pathfinder</td>\n",
              "      <td>Orange</td>\n",
              "      <td>1993</td>\n",
              "      <td>0</td>\n",
              "      <td>Rural</td>\n",
              "      <td>$30904.01</td>\n",
              "      <td>$56122.70</td>\n",
              "    </tr>\n",
              "    <tr>\n",
              "      <th>3</th>\n",
              "      <td>38-0306843</td>\n",
              "      <td>5/10/1959</td>\n",
              "      <td>Single</td>\n",
              "      <td>Private</td>\n",
              "      <td>Female</td>\n",
              "      <td>0</td>\n",
              "      <td>No</td>\n",
              "      <td>Bachelors</td>\n",
              "      <td>Ford</td>\n",
              "      <td>Econoline E350</td>\n",
              "      <td>Pink</td>\n",
              "      <td>2000</td>\n",
              "      <td>1</td>\n",
              "      <td>Highly Urban</td>\n",
              "      <td>$30257.82</td>\n",
              "      <td>$175182.61</td>\n",
              "    </tr>\n",
              "    <tr>\n",
              "      <th>4</th>\n",
              "      <td>47-5163637</td>\n",
              "      <td>1/15/1992</td>\n",
              "      <td>Single</td>\n",
              "      <td>Commercial</td>\n",
              "      <td>Male</td>\n",
              "      <td>0</td>\n",
              "      <td>No</td>\n",
              "      <td>Masters</td>\n",
              "      <td>Nissan</td>\n",
              "      <td>350Z</td>\n",
              "      <td>Green</td>\n",
              "      <td>2006</td>\n",
              "      <td>3</td>\n",
              "      <td>Rural</td>\n",
              "      <td>$50434.02</td>\n",
              "      <td>$137110.23</td>\n",
              "    </tr>\n",
              "  </tbody>\n",
              "</table>\n",
              "</div>"
            ],
            "text/plain": [
              "           ID  birthdate marital_status     car_use  gender  kids_driving  \\\n",
              "0  62-2999778   8/9/1962         Single     Private    Male             2   \n",
              "1  70-2426103  4/21/1988        Married     Private  Female             0   \n",
              "2  08-3808219   3/8/1999       Divorced     Private    Male             0   \n",
              "3  38-0306843  5/10/1959         Single     Private  Female             0   \n",
              "4  47-5163637  1/15/1992         Single  Commercial    Male             0   \n",
              "\n",
              "  parent    education car_make       car_model  car_color  car_year  \\\n",
              "0    Yes  High School    Acura             TSX      Green      2010   \n",
              "1     No    Bachelors   Corbin         Sparrow  Turquoise      2004   \n",
              "2     No    Bachelors   Nissan      Pathfinder     Orange      1993   \n",
              "3     No    Bachelors     Ford  Econoline E350       Pink      2000   \n",
              "4     No      Masters   Nissan            350Z      Green      2006   \n",
              "\n",
              "   claim_freq coverage_zone  claim_amt household_income  \n",
              "0           1  Highly Urban  $73759.88       $220436.66  \n",
              "1           1         Urban  $78975.41        $66491.43  \n",
              "2           0         Rural  $30904.01        $56122.70  \n",
              "3           1  Highly Urban  $30257.82       $175182.61  \n",
              "4           3         Rural  $50434.02       $137110.23  "
            ]
          },
          "execution_count": 38,
          "metadata": {},
          "output_type": "execute_result"
        }
      ],
      "source": [
        "#load the insurance data into a dataframe\n",
        "insurance=pd.read_csv(\"/Users/babatundesalako/Downloads/Insurance_Policies.csv\")\n",
        "insurance.head()"
      ]
    },
    {
      "cell_type": "code",
      "execution_count": 39,
      "metadata": {
        "colab": {
          "base_uri": "https://localhost:8080/"
        },
        "id": "O3pG0Tvu2Cgj",
        "outputId": "d17115a1-9d7a-46f8-a82c-99df77ad8fcc"
      },
      "outputs": [
        {
          "data": {
            "text/plain": [
              "(37542, 16)"
            ]
          },
          "execution_count": 39,
          "metadata": {},
          "output_type": "execute_result"
        }
      ],
      "source": [
        "#finding out the number of records and columns\n",
        "insurance.shape"
      ]
    },
    {
      "cell_type": "code",
      "execution_count": 40,
      "metadata": {
        "colab": {
          "base_uri": "https://localhost:8080/"
        },
        "id": "Ss65ifrE2GXO",
        "outputId": "938edc95-8b3d-48fa-99e1-caf1412af4ee"
      },
      "outputs": [
        {
          "data": {
            "text/plain": [
              "Index(['ID', 'birthdate', 'marital_status', 'car_use', 'gender',\n",
              "       'kids_driving', 'parent', 'education', 'car_make', 'car_model',\n",
              "       'car_color', 'car_year', 'claim_freq', 'coverage_zone', 'claim_amt',\n",
              "       'household_income'],\n",
              "      dtype='object')"
            ]
          },
          "execution_count": 40,
          "metadata": {},
          "output_type": "execute_result"
        }
      ],
      "source": [
        "#a look into the columns in the dataset\n",
        "insurance.columns"
      ]
    },
    {
      "cell_type": "code",
      "execution_count": 34,
      "metadata": {
        "colab": {
          "base_uri": "https://localhost:8080/"
        },
        "id": "nm9w8gmM2KJQ",
        "outputId": "8ff6c822-ec41-4e31-c200-8d9937406bf0"
      },
      "outputs": [
        {
          "name": "stdout",
          "output_type": "stream",
          "text": [
            "<class 'pandas.core.frame.DataFrame'>\n",
            "RangeIndex: 37542 entries, 0 to 37541\n",
            "Data columns (total 16 columns):\n",
            " #   Column            Non-Null Count  Dtype \n",
            "---  ------            --------------  ----- \n",
            " 0   ID                37542 non-null  object\n",
            " 1   birthdate         37542 non-null  object\n",
            " 2   marital_status    37542 non-null  object\n",
            " 3   car_use           37542 non-null  object\n",
            " 4   gender            37542 non-null  object\n",
            " 5   kids_driving      37542 non-null  int64 \n",
            " 6   parent            37542 non-null  object\n",
            " 7   education         37542 non-null  object\n",
            " 8   car_make          37542 non-null  object\n",
            " 9   car_model         37542 non-null  object\n",
            " 10  car_color         37542 non-null  object\n",
            " 11  car_year          37542 non-null  int64 \n",
            " 12  claim_freq        37542 non-null  int64 \n",
            " 13  coverage_zone     37542 non-null  object\n",
            " 14  claim_amt         37542 non-null  object\n",
            " 15  household_income  37542 non-null  object\n",
            "dtypes: int64(3), object(13)\n",
            "memory usage: 4.6+ MB\n"
          ]
        }
      ],
      "source": [
        "#get more information about the data\n",
        "insurance.info()"
      ]
    },
    {
      "cell_type": "code",
      "execution_count": 26,
      "metadata": {
        "colab": {
          "base_uri": "https://localhost:8080/"
        },
        "id": "KiCP8mZN2ZX5",
        "outputId": "1bbbd1f6-25fd-4721-cb2e-9250922be634"
      },
      "outputs": [
        {
          "data": {
            "text/plain": [
              "ID                  0\n",
              "birthdate           0\n",
              "marital_status      0\n",
              "car_use             0\n",
              "gender              0\n",
              "kids_driving        0\n",
              "parent              0\n",
              "education           0\n",
              "car_make            0\n",
              "car_model           0\n",
              "car_color           0\n",
              "car_year            0\n",
              "claim_freq          0\n",
              "coverage_zone       0\n",
              "claim_amt           0\n",
              "household_income    0\n",
              "dtype: int64"
            ]
          },
          "execution_count": 26,
          "metadata": {},
          "output_type": "execute_result"
        }
      ],
      "source": [
        "insurance.isna().sum()"
      ]
    },
    {
      "cell_type": "code",
      "execution_count": 7,
      "metadata": {
        "colab": {
          "base_uri": "https://localhost:8080/"
        },
        "id": "ywjWMNOZ32NU",
        "outputId": "be7dd862-f8e6-438a-ad8d-cf460e8baaee"
      },
      "outputs": [
        {
          "data": {
            "text/plain": [
              "0"
            ]
          },
          "execution_count": 7,
          "metadata": {},
          "output_type": "execute_result"
        }
      ],
      "source": [
        "insurance.duplicated().sum()"
      ]
    },
    {
      "cell_type": "code",
      "execution_count": 8,
      "metadata": {
        "colab": {
          "base_uri": "https://localhost:8080/"
        },
        "id": "fN3kcTwbI7i7",
        "outputId": "8cb33fa6-df61-498f-a0ca-8d8070adbf8c"
      },
      "outputs": [
        {
          "name": "stdout",
          "output_type": "stream",
          "text": [
            "ID                  0.0\n",
            "birthdate           0.0\n",
            "marital_status      0.0\n",
            "car_use             0.0\n",
            "gender              0.0\n",
            "kids_driving        0.0\n",
            "parent              0.0\n",
            "education           0.0\n",
            "car_make            0.0\n",
            "car_model           0.0\n",
            "car_color           0.0\n",
            "car_year            0.0\n",
            "claim_freq          0.0\n",
            "coverage_zone       0.0\n",
            "claim_amt           0.0\n",
            "household_income    0.0\n",
            "dtype: float64\n"
          ]
        }
      ],
      "source": [
        "missing_percentage = insurance.isnull().sum() / len(insurance) * 100\n",
        "print(missing_percentage)"
      ]
    },
    {
      "cell_type": "markdown",
      "metadata": {
        "id": "7I9SqhgYU3Xb"
      },
      "source": [
        "## EDA"
      ]
    },
    {
      "cell_type": "code",
      "execution_count": 41,
      "metadata": {
        "colab": {
          "base_uri": "https://localhost:8080/",
          "height": 638
        },
        "id": "VESSu9xKU2Qi",
        "outputId": "da7e637f-9412-4118-cd91-c6aa33de94f0"
      },
      "outputs": [
        {
          "data": {
            "text/html": [
              "<div>\n",
              "<style scoped>\n",
              "    .dataframe tbody tr th:only-of-type {\n",
              "        vertical-align: middle;\n",
              "    }\n",
              "\n",
              "    .dataframe tbody tr th {\n",
              "        vertical-align: top;\n",
              "    }\n",
              "\n",
              "    .dataframe thead th {\n",
              "        text-align: right;\n",
              "    }\n",
              "</style>\n",
              "<table border=\"1\" class=\"dataframe\">\n",
              "  <thead>\n",
              "    <tr style=\"text-align: right;\">\n",
              "      <th></th>\n",
              "      <th>count</th>\n",
              "      <th>mean</th>\n",
              "      <th>std</th>\n",
              "      <th>min</th>\n",
              "      <th>25%</th>\n",
              "      <th>50%</th>\n",
              "      <th>75%</th>\n",
              "      <th>max</th>\n",
              "    </tr>\n",
              "  </thead>\n",
              "  <tbody>\n",
              "    <tr>\n",
              "      <th>kids_driving</th>\n",
              "      <td>37542.0</td>\n",
              "      <td>0.418278</td>\n",
              "      <td>0.736958</td>\n",
              "      <td>0.0</td>\n",
              "      <td>0.0</td>\n",
              "      <td>0.0</td>\n",
              "      <td>1.0</td>\n",
              "      <td>3.0</td>\n",
              "    </tr>\n",
              "    <tr>\n",
              "      <th>car_year</th>\n",
              "      <td>37542.0</td>\n",
              "      <td>2000.293005</td>\n",
              "      <td>9.045441</td>\n",
              "      <td>1909.0</td>\n",
              "      <td>1995.0</td>\n",
              "      <td>2002.0</td>\n",
              "      <td>2007.0</td>\n",
              "      <td>2013.0</td>\n",
              "    </tr>\n",
              "    <tr>\n",
              "      <th>claim_freq</th>\n",
              "      <td>37542.0</td>\n",
              "      <td>0.510308</td>\n",
              "      <td>1.015050</td>\n",
              "      <td>0.0</td>\n",
              "      <td>0.0</td>\n",
              "      <td>0.0</td>\n",
              "      <td>1.0</td>\n",
              "      <td>4.0</td>\n",
              "    </tr>\n",
              "  </tbody>\n",
              "</table>\n",
              "</div>"
            ],
            "text/plain": [
              "                count         mean       std     min     25%     50%     75%  \\\n",
              "kids_driving  37542.0     0.418278  0.736958     0.0     0.0     0.0     1.0   \n",
              "car_year      37542.0  2000.293005  9.045441  1909.0  1995.0  2002.0  2007.0   \n",
              "claim_freq    37542.0     0.510308  1.015050     0.0     0.0     0.0     1.0   \n",
              "\n",
              "                 max  \n",
              "kids_driving     3.0  \n",
              "car_year      2013.0  \n",
              "claim_freq       4.0  "
            ]
          },
          "execution_count": 41,
          "metadata": {},
          "output_type": "execute_result"
        }
      ],
      "source": [
        "insurance.describe().T"
      ]
    },
    {
      "cell_type": "code",
      "execution_count": 42,
      "metadata": {},
      "outputs": [
        {
          "data": {
            "text/html": [
              "<div>\n",
              "<style scoped>\n",
              "    .dataframe tbody tr th:only-of-type {\n",
              "        vertical-align: middle;\n",
              "    }\n",
              "\n",
              "    .dataframe tbody tr th {\n",
              "        vertical-align: top;\n",
              "    }\n",
              "\n",
              "    .dataframe thead th {\n",
              "        text-align: right;\n",
              "    }\n",
              "</style>\n",
              "<table border=\"1\" class=\"dataframe\">\n",
              "  <thead>\n",
              "    <tr style=\"text-align: right;\">\n",
              "      <th></th>\n",
              "      <th>count</th>\n",
              "      <th>unique</th>\n",
              "      <th>top</th>\n",
              "      <th>freq</th>\n",
              "    </tr>\n",
              "  </thead>\n",
              "  <tbody>\n",
              "    <tr>\n",
              "      <th>ID</th>\n",
              "      <td>37542</td>\n",
              "      <td>37541</td>\n",
              "      <td>56-5402470</td>\n",
              "      <td>2</td>\n",
              "    </tr>\n",
              "    <tr>\n",
              "      <th>birthdate</th>\n",
              "      <td>37542</td>\n",
              "      <td>16525</td>\n",
              "      <td>10/23/1981</td>\n",
              "      <td>9</td>\n",
              "    </tr>\n",
              "    <tr>\n",
              "      <th>marital_status</th>\n",
              "      <td>37542</td>\n",
              "      <td>4</td>\n",
              "      <td>Single</td>\n",
              "      <td>15525</td>\n",
              "    </tr>\n",
              "    <tr>\n",
              "      <th>car_use</th>\n",
              "      <td>37542</td>\n",
              "      <td>2</td>\n",
              "      <td>Private</td>\n",
              "      <td>30060</td>\n",
              "    </tr>\n",
              "    <tr>\n",
              "      <th>gender</th>\n",
              "      <td>37542</td>\n",
              "      <td>2</td>\n",
              "      <td>Female</td>\n",
              "      <td>18806</td>\n",
              "    </tr>\n",
              "    <tr>\n",
              "      <th>parent</th>\n",
              "      <td>37542</td>\n",
              "      <td>2</td>\n",
              "      <td>No</td>\n",
              "      <td>20932</td>\n",
              "    </tr>\n",
              "    <tr>\n",
              "      <th>education</th>\n",
              "      <td>37542</td>\n",
              "      <td>4</td>\n",
              "      <td>Bachelors</td>\n",
              "      <td>18701</td>\n",
              "    </tr>\n",
              "    <tr>\n",
              "      <th>car_make</th>\n",
              "      <td>37542</td>\n",
              "      <td>78</td>\n",
              "      <td>Ford</td>\n",
              "      <td>3302</td>\n",
              "    </tr>\n",
              "    <tr>\n",
              "      <th>car_model</th>\n",
              "      <td>37542</td>\n",
              "      <td>1011</td>\n",
              "      <td>Grand Prix</td>\n",
              "      <td>250</td>\n",
              "    </tr>\n",
              "    <tr>\n",
              "      <th>car_color</th>\n",
              "      <td>37542</td>\n",
              "      <td>19</td>\n",
              "      <td>Turquoise</td>\n",
              "      <td>2078</td>\n",
              "    </tr>\n",
              "    <tr>\n",
              "      <th>coverage_zone</th>\n",
              "      <td>37542</td>\n",
              "      <td>5</td>\n",
              "      <td>Urban</td>\n",
              "      <td>7588</td>\n",
              "    </tr>\n",
              "    <tr>\n",
              "      <th>claim_amt</th>\n",
              "      <td>37542</td>\n",
              "      <td>37474</td>\n",
              "      <td>$44939.31</td>\n",
              "      <td>2</td>\n",
              "    </tr>\n",
              "    <tr>\n",
              "      <th>household_income</th>\n",
              "      <td>37542</td>\n",
              "      <td>37502</td>\n",
              "      <td>$109041.67</td>\n",
              "      <td>2</td>\n",
              "    </tr>\n",
              "  </tbody>\n",
              "</table>\n",
              "</div>"
            ],
            "text/plain": [
              "                  count unique         top   freq\n",
              "ID                37542  37541  56-5402470      2\n",
              "birthdate         37542  16525  10/23/1981      9\n",
              "marital_status    37542      4      Single  15525\n",
              "car_use           37542      2     Private  30060\n",
              "gender            37542      2      Female  18806\n",
              "parent            37542      2          No  20932\n",
              "education         37542      4   Bachelors  18701\n",
              "car_make          37542     78        Ford   3302\n",
              "car_model         37542   1011  Grand Prix    250\n",
              "car_color         37542     19   Turquoise   2078\n",
              "coverage_zone     37542      5       Urban   7588\n",
              "claim_amt         37542  37474   $44939.31      2\n",
              "household_income  37542  37502  $109041.67      2"
            ]
          },
          "execution_count": 42,
          "metadata": {},
          "output_type": "execute_result"
        }
      ],
      "source": [
        "insurance.describe(include='object').T"
      ]
    },
    {
      "cell_type": "code",
      "execution_count": 45,
      "metadata": {},
      "outputs": [
        {
          "name": "stdout",
          "output_type": "stream",
          "text": [
            "0    73759.88\n",
            "1    78975.41\n",
            "2    30904.01\n",
            "3    30257.82\n",
            "Name: claim_amt, dtype: object\n",
            "0    220436.66\n",
            "1     66491.43\n",
            "2     56122.70\n",
            "3    175182.61\n",
            "Name: household_income, dtype: object\n"
          ]
        }
      ],
      "source": [
        "#removing the $ sign from the values in the columns\n",
        "insurance['claim_amt']=insurance['claim_amt'].str.replace('$', '')\n",
        "insurance['household_income']=insurance['household_income'].str.replace('$', '')\n",
        "print(insurance['claim_amt'].head(4))\n",
        "print(insurance['household_income'].head(4))"
      ]
    },
    {
      "cell_type": "code",
      "execution_count": 46,
      "metadata": {},
      "outputs": [],
      "source": [
        "#checning from from object datatype to float data type\n",
        "insurance['claim_amt']=insurance['claim_amt'].astype(float)\n",
        "insurance['household_income']=insurance['household_income'].astype(float)\n"
      ]
    },
    {
      "cell_type": "code",
      "execution_count": 47,
      "metadata": {},
      "outputs": [
        {
          "name": "stdout",
          "output_type": "stream",
          "text": [
            "<class 'pandas.core.frame.DataFrame'>\n",
            "RangeIndex: 37542 entries, 0 to 37541\n",
            "Data columns (total 16 columns):\n",
            " #   Column            Non-Null Count  Dtype  \n",
            "---  ------            --------------  -----  \n",
            " 0   ID                37542 non-null  object \n",
            " 1   birthdate         37542 non-null  object \n",
            " 2   marital_status    37542 non-null  object \n",
            " 3   car_use           37542 non-null  object \n",
            " 4   gender            37542 non-null  object \n",
            " 5   kids_driving      37542 non-null  int64  \n",
            " 6   parent            37542 non-null  object \n",
            " 7   education         37542 non-null  object \n",
            " 8   car_make          37542 non-null  object \n",
            " 9   car_model         37542 non-null  object \n",
            " 10  car_color         37542 non-null  object \n",
            " 11  car_year          37542 non-null  int64  \n",
            " 12  claim_freq        37542 non-null  int64  \n",
            " 13  coverage_zone     37542 non-null  object \n",
            " 14  claim_amt         37542 non-null  float64\n",
            " 15  household_income  37542 non-null  float64\n",
            "dtypes: float64(2), int64(3), object(11)\n",
            "memory usage: 4.6+ MB\n"
          ]
        }
      ],
      "source": [
        "insurance.info()"
      ]
    },
    {
      "cell_type": "code",
      "execution_count": 48,
      "metadata": {},
      "outputs": [
        {
          "data": {
            "text/html": [
              "<div>\n",
              "<style scoped>\n",
              "    .dataframe tbody tr th:only-of-type {\n",
              "        vertical-align: middle;\n",
              "    }\n",
              "\n",
              "    .dataframe tbody tr th {\n",
              "        vertical-align: top;\n",
              "    }\n",
              "\n",
              "    .dataframe thead th {\n",
              "        text-align: right;\n",
              "    }\n",
              "</style>\n",
              "<table border=\"1\" class=\"dataframe\">\n",
              "  <thead>\n",
              "    <tr style=\"text-align: right;\">\n",
              "      <th></th>\n",
              "      <th>ID</th>\n",
              "      <th>birthdate</th>\n",
              "      <th>marital_status</th>\n",
              "      <th>car_use</th>\n",
              "      <th>gender</th>\n",
              "      <th>kids_driving</th>\n",
              "      <th>parent</th>\n",
              "      <th>education</th>\n",
              "      <th>car_make</th>\n",
              "      <th>car_model</th>\n",
              "      <th>car_color</th>\n",
              "      <th>car_year</th>\n",
              "      <th>claim_freq</th>\n",
              "      <th>coverage_zone</th>\n",
              "      <th>claim_amt</th>\n",
              "      <th>household_income</th>\n",
              "    </tr>\n",
              "  </thead>\n",
              "  <tbody>\n",
              "    <tr>\n",
              "      <th>0</th>\n",
              "      <td>62-2999778</td>\n",
              "      <td>8/9/1962</td>\n",
              "      <td>Single</td>\n",
              "      <td>Private</td>\n",
              "      <td>Male</td>\n",
              "      <td>2</td>\n",
              "      <td>Yes</td>\n",
              "      <td>High School</td>\n",
              "      <td>Acura</td>\n",
              "      <td>TSX</td>\n",
              "      <td>Green</td>\n",
              "      <td>2010</td>\n",
              "      <td>1</td>\n",
              "      <td>Highly Urban</td>\n",
              "      <td>73759.88</td>\n",
              "      <td>220436.66</td>\n",
              "    </tr>\n",
              "    <tr>\n",
              "      <th>1</th>\n",
              "      <td>70-2426103</td>\n",
              "      <td>4/21/1988</td>\n",
              "      <td>Married</td>\n",
              "      <td>Private</td>\n",
              "      <td>Female</td>\n",
              "      <td>0</td>\n",
              "      <td>No</td>\n",
              "      <td>Bachelors</td>\n",
              "      <td>Corbin</td>\n",
              "      <td>Sparrow</td>\n",
              "      <td>Turquoise</td>\n",
              "      <td>2004</td>\n",
              "      <td>1</td>\n",
              "      <td>Urban</td>\n",
              "      <td>78975.41</td>\n",
              "      <td>66491.43</td>\n",
              "    </tr>\n",
              "    <tr>\n",
              "      <th>2</th>\n",
              "      <td>08-3808219</td>\n",
              "      <td>3/8/1999</td>\n",
              "      <td>Divorced</td>\n",
              "      <td>Private</td>\n",
              "      <td>Male</td>\n",
              "      <td>0</td>\n",
              "      <td>No</td>\n",
              "      <td>Bachelors</td>\n",
              "      <td>Nissan</td>\n",
              "      <td>Pathfinder</td>\n",
              "      <td>Orange</td>\n",
              "      <td>1993</td>\n",
              "      <td>0</td>\n",
              "      <td>Rural</td>\n",
              "      <td>30904.01</td>\n",
              "      <td>56122.70</td>\n",
              "    </tr>\n",
              "    <tr>\n",
              "      <th>3</th>\n",
              "      <td>38-0306843</td>\n",
              "      <td>5/10/1959</td>\n",
              "      <td>Single</td>\n",
              "      <td>Private</td>\n",
              "      <td>Female</td>\n",
              "      <td>0</td>\n",
              "      <td>No</td>\n",
              "      <td>Bachelors</td>\n",
              "      <td>Ford</td>\n",
              "      <td>Econoline E350</td>\n",
              "      <td>Pink</td>\n",
              "      <td>2000</td>\n",
              "      <td>1</td>\n",
              "      <td>Highly Urban</td>\n",
              "      <td>30257.82</td>\n",
              "      <td>175182.61</td>\n",
              "    </tr>\n",
              "    <tr>\n",
              "      <th>4</th>\n",
              "      <td>47-5163637</td>\n",
              "      <td>1/15/1992</td>\n",
              "      <td>Single</td>\n",
              "      <td>Commercial</td>\n",
              "      <td>Male</td>\n",
              "      <td>0</td>\n",
              "      <td>No</td>\n",
              "      <td>Masters</td>\n",
              "      <td>Nissan</td>\n",
              "      <td>350Z</td>\n",
              "      <td>Green</td>\n",
              "      <td>2006</td>\n",
              "      <td>3</td>\n",
              "      <td>Rural</td>\n",
              "      <td>50434.02</td>\n",
              "      <td>137110.23</td>\n",
              "    </tr>\n",
              "  </tbody>\n",
              "</table>\n",
              "</div>"
            ],
            "text/plain": [
              "           ID  birthdate marital_status     car_use  gender  kids_driving  \\\n",
              "0  62-2999778   8/9/1962         Single     Private    Male             2   \n",
              "1  70-2426103  4/21/1988        Married     Private  Female             0   \n",
              "2  08-3808219   3/8/1999       Divorced     Private    Male             0   \n",
              "3  38-0306843  5/10/1959         Single     Private  Female             0   \n",
              "4  47-5163637  1/15/1992         Single  Commercial    Male             0   \n",
              "\n",
              "  parent    education car_make       car_model  car_color  car_year  \\\n",
              "0    Yes  High School    Acura             TSX      Green      2010   \n",
              "1     No    Bachelors   Corbin         Sparrow  Turquoise      2004   \n",
              "2     No    Bachelors   Nissan      Pathfinder     Orange      1993   \n",
              "3     No    Bachelors     Ford  Econoline E350       Pink      2000   \n",
              "4     No      Masters   Nissan            350Z      Green      2006   \n",
              "\n",
              "   claim_freq coverage_zone  claim_amt  household_income  \n",
              "0           1  Highly Urban   73759.88         220436.66  \n",
              "1           1         Urban   78975.41          66491.43  \n",
              "2           0         Rural   30904.01          56122.70  \n",
              "3           1  Highly Urban   30257.82         175182.61  \n",
              "4           3         Rural   50434.02         137110.23  "
            ]
          },
          "execution_count": 48,
          "metadata": {},
          "output_type": "execute_result"
        }
      ],
      "source": [
        "insurance.head(5)"
      ]
    },
    {
      "cell_type": "code",
      "execution_count": null,
      "metadata": {},
      "outputs": [],
      "source": []
    }
  ],
  "metadata": {
    "colab": {
      "provenance": []
    },
    "kernelspec": {
      "display_name": "Python 3",
      "name": "python3"
    },
    "language_info": {
      "codemirror_mode": {
        "name": "ipython",
        "version": 3
      },
      "file_extension": ".py",
      "mimetype": "text/x-python",
      "name": "python",
      "nbconvert_exporter": "python",
      "pygments_lexer": "ipython3",
      "version": "3.12.3"
    }
  },
  "nbformat": 4,
  "nbformat_minor": 0
}
